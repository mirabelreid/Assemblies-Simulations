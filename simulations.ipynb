{
 "cells": [
  {
   "cell_type": "markdown",
   "metadata": {},
   "source": [
    "##  Simulations"
   ]
  },
  {
   "cell_type": "code",
   "execution_count": null,
   "metadata": {},
   "outputs": [],
   "source": [
    "%matplotlib notebook\n",
    "import networkx as nx\n",
    "import numpy as np\n",
    "import math\n",
    "import matplotlib.pyplot as plt\n",
    "import time\n",
    "import pickle\n",
    "from functools import partial\n",
    "\n",
    "# import functions\n",
    "from assembly_functions import *\n",
    "\n"
   ]
  },
  {
   "cell_type": "markdown",
   "metadata": {},
   "source": [
    "#### 1D hidden variable"
   ]
  },
  {
   "cell_type": "code",
   "execution_count": null,
   "metadata": {},
   "outputs": [],
   "source": [
    "#Create graph with hidden attributes\n",
    "n=10000 #number of nodes\n",
    "\n",
    "#Create graph(num nodes, node attribute function, edge probability function)\n",
    "G2 = create_graph(n, gen_attributes_uniform, partial(edge_probability_gaussian, sigma=0.01, w=1))\n",
    "print(get_edge_density(G2)) # edge density of G_2"
   ]
  },
  {
   "cell_type": "code",
   "execution_count": null,
   "metadata": {},
   "outputs": [],
   "source": [
    "beta = 0.00 # plasticity parameter\n",
    "p=0.00 # initial stimulus input\n",
    "T=30 # Time steps\n",
    "k=100 # Size of cap\n",
    "support, support_size_at_t, winners_at_t = project(G2, T, p, random_topk=True, verbose=False, n=n, k=k, beta=beta)\n",
    "\n"
   ]
  },
  {
   "cell_type": "code",
   "execution_count": null,
   "metadata": {},
   "outputs": [],
   "source": [
    "draw_support(G2, winners_at_t, T=T) #graph of winners at each time step"
   ]
  },
  {
   "cell_type": "code",
   "execution_count": null,
   "metadata": {},
   "outputs": [],
   "source": [
    "#compare the nodes in the last few time steps, to see how it varies\n",
    "hst = [G2.nodes[n]['h'] for n in winners_at_t[-1]]\n",
    "hst2 = [G2.nodes[n]['h'] for n in winners_at_t[-2]]\n",
    "hst3 = [G2.nodes[n]['h'] for n in winners_at_t[-3]]\n",
    "hst4 = [G2.nodes[n]['h'] for n in winners_at_t[-4]]\n",
    "x = [hst[i]*100 for i in range(len(hst))]\n",
    "x2 = [hst2[i]*100 for i in range(len(hst2))]\n",
    "x3 = [hst3[i]*100 for i in range(len(hst3))]\n",
    "x4 = [hst4[i]*100 for i in range(len(hst4))]\n",
    "min_val = min(hst)\n",
    "max_val = max(hst)\n",
    "node_vals = [G2.nodes[n]['h'][0]*100 for n in G2.nodes if G2.nodes[n]['h']>=min_val and G2.nodes[n]['h']<=max_val]\n",
    "plt.figure()\n",
    "plt.plot(x, np.zeros_like(x)+0.1, 'x')\n",
    "plt.plot(x2, np.zeros_like(x), 'x')\n",
    "plt.plot(node_vals, np.zeros_like(node_vals)+0.2, 'x')\n",
    "plt.plot(x3, np.zeros_like(x)-0.1, 'x')\n",
    "plt.plot(x4, np.zeros_like(x)-0.2, 'x')\n",
    "plt.ylim(-1,1)\n",
    "plt.show()"
   ]
  },
  {
   "cell_type": "code",
   "execution_count": null,
   "metadata": {},
   "outputs": [],
   "source": [
    "#print(support_size_at_t)\n",
    "assembly = G2.subgraph(winners_at_t[T-1])\n",
    "print(\"Num nodes: \", len(assembly.nodes))\n",
    "print(\"Assembly Edge density: \", get_edge_density(assembly))\n",
    "print(\"Convergence time: \", np.where(np.array(support_size_at_t)==np.max(support_size_at_t))[0][0])\n",
    "print(\"Support size: \", np.max(support_size_at_t))"
   ]
  },
  {
   "cell_type": "markdown",
   "metadata": {},
   "source": [
    "#### 2D hidden variable"
   ]
  },
  {
   "cell_type": "code",
   "execution_count": null,
   "metadata": {
    "scrolled": true
   },
   "outputs": [],
   "source": [
    "#edge probability based on h, stimulus connections random\n",
    "T=8\n",
    "n=10000\n",
    "G2 = create_graph(n, gen_attributes_uniform_2, partial(edge_probability_gaussian, sigma=0.04))\n",
    "#G2 = create_graph(n, gen_attributes_uniform_2, partial(edge_probability_exp, sigma=0.06))\n",
    "print(\"Graph edge density\", get_edge_density(G2))"
   ]
  },
  {
   "cell_type": "code",
   "execution_count": null,
   "metadata": {},
   "outputs": [],
   "source": [
    "k=200\n",
    "T = 8\n",
    "support, support_size_at_t, winners_at_t = project(G2, T, 0.00, random_topk=True, verbose=False)"
   ]
  },
  {
   "cell_type": "code",
   "execution_count": null,
   "metadata": {},
   "outputs": [],
   "source": [
    "\n",
    "draw_support(G2, winners_at_t, T)\n",
    "plt.show()"
   ]
  },
  {
   "cell_type": "code",
   "execution_count": null,
   "metadata": {},
   "outputs": [],
   "source": [
    "assembly = G2.subgraph(winners_at_t[T-1])\n",
    "print(\"Num nodes: \", len(assembly.nodes))\n",
    "print(\"Assembly Edge density: \", get_edge_density(assembly))\n",
    "print(\"Convergence time: \", np.where(np.array(support_size_at_t)==np.max(support_size_at_t))[0][0])\n",
    "print(\"Support size: \", np.max(support_size_at_t))"
   ]
  },
  {
   "cell_type": "markdown",
   "metadata": {},
   "source": [
    "### Random Graph (Compaarison)"
   ]
  },
  {
   "cell_type": "code",
   "execution_count": null,
   "metadata": {},
   "outputs": [],
   "source": [
    "#all random\n",
    "p=0.05\n",
    "k=100\n",
    "n=10000\n",
    "G2 = create_graph(n, gen_attributes_2, partial(edge_probability_er, p=p))\n",
    "support, support_size_at_t, winners_at_t = project(G2, 30, 0.0, beta=0.0)\n",
    "#print(support_size_at_t)\n",
    "assembly = G2.subgraph(winners_at_t[29])\n",
    "print(\"Num nodes: \", len(assembly.nodes))\n",
    "print(\"Assembly Edge density: \", get_edge_density(assembly))\n",
    "print(\"Convergence time: \", np.where(np.array(support_size_at_t)==np.max(support_size_at_t))[0][0])\n",
    "print(\"Support size: \", np.max(support_size_at_t))"
   ]
  },
  {
   "cell_type": "code",
   "execution_count": null,
   "metadata": {},
   "outputs": [],
   "source": []
  }
 ],
 "metadata": {
  "kernelspec": {
   "display_name": "Python 3",
   "language": "python",
   "name": "python3"
  },
  "language_info": {
   "codemirror_mode": {
    "name": "ipython",
    "version": 3
   },
   "file_extension": ".py",
   "mimetype": "text/x-python",
   "name": "python",
   "nbconvert_exporter": "python",
   "pygments_lexer": "ipython3",
   "version": "3.7.7"
  }
 },
 "nbformat": 4,
 "nbformat_minor": 2
}
